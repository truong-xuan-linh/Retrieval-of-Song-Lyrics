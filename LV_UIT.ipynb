{
  "nbformat": 4,
  "nbformat_minor": 0,
  "metadata": {
    "colab": {
      "name": "LV-UIT.ipynb",
      "provenance": [],
      "collapsed_sections": [
        "XWREf5eJXz-_"
      ]
    },
    "kernelspec": {
      "name": "python3",
      "display_name": "Python 3"
    },
    "language_info": {
      "name": "python"
    }
  },
  "cells": [
    {
      "cell_type": "markdown",
      "source": [
        "#**Custom hàm xếp hạng các câu truy vấn**"
      ],
      "metadata": {
        "id": "HkrSflxGV6Pe"
      }
    },
    {
      "cell_type": "markdown",
      "source": [
        "##**Các hàm tách chữ trong query**"
      ],
      "metadata": {
        "id": "XWREf5eJXz-_"
      }
    },
    {
      "cell_type": "markdown",
      "source": [
        "Hàm tìm kiếm theo từng chữ"
      ],
      "metadata": {
        "id": "Lq9GgDkbWJwa"
      }
    },
    {
      "cell_type": "code",
      "execution_count": null,
      "metadata": {
        "id": "zAO-2tFkDmwM"
      },
      "outputs": [],
      "source": [
        "def one_token_query(text):\n",
        "  list_txt = text.split()\n",
        "  result = []\n",
        "  for txt in list_txt:\n",
        "    result.append(\" \"+ txt+\" \")\n",
        "  return result"
      ]
    },
    {
      "cell_type": "markdown",
      "source": [
        "Hàm tìm kiếm hai chữ liên tiếp nhau"
      ],
      "metadata": {
        "id": "eAzYIkKkWSvp"
      }
    },
    {
      "cell_type": "code",
      "source": [
        "def two_token_query(text):\n",
        "  txt_list = text.split()\n",
        "  result = []\n",
        "  while len(txt_list)>0:\n",
        "    result.append(\" \" + \" \".join(txt_list[:2]) + \" \")\n",
        "    txt_list = txt_list[1:]\n",
        "    if len(txt_list) < 2:\n",
        "      break\n",
        "  return result"
      ],
      "metadata": {
        "id": "eoW9GMn3EVaT"
      },
      "execution_count": null,
      "outputs": []
    },
    {
      "cell_type": "markdown",
      "source": [
        "Hàm tìm kiếm ba chữ liên tiếp nhau"
      ],
      "metadata": {
        "id": "GJP9bPK8WXCG"
      }
    },
    {
      "cell_type": "code",
      "source": [
        "def three_token_query(text):\n",
        "  txt_list = text.split()\n",
        "  result = []\n",
        "  while len(txt_list)>0:\n",
        "    result.append(\" \" + \" \".join(txt_list[:3]) + \" \")\n",
        "    txt_list = txt_list[1:]\n",
        "    if len(txt_list) < 3:\n",
        "      break\n",
        "  return result"
      ],
      "metadata": {
        "id": "9mtgNO8LGEhJ"
      },
      "execution_count": null,
      "outputs": []
    },
    {
      "cell_type": "markdown",
      "source": [
        "Hàm tìm kiếm bốn chữ liên tiếp nhau"
      ],
      "metadata": {
        "id": "6VZpBlNNW7Sy"
      }
    },
    {
      "cell_type": "code",
      "source": [
        "def four_token_query(text):\n",
        "  txt_list = text.split()\n",
        "  result = []\n",
        "  while len(txt_list)>0:\n",
        "    result.append(\" \" + \" \".join(txt_list[:4]) + \" \")\n",
        "    txt_list = txt_list[1:]\n",
        "    if len(txt_list) < 4:\n",
        "      break\n",
        "  return result"
      ],
      "metadata": {
        "id": "boEpRep8SclR"
      },
      "execution_count": null,
      "outputs": []
    },
    {
      "cell_type": "markdown",
      "source": [
        "Hàm tìm kiếm năm chữ liên tiếp nhau"
      ],
      "metadata": {
        "id": "MmSAr4xfWbKL"
      }
    },
    {
      "cell_type": "code",
      "source": [
        "def five_token_query(text):\n",
        "  txt_list = text.split()\n",
        "  result = []\n",
        "  while len(txt_list)>0:\n",
        "    result.append(\" \" + \" \".join(txt_list[:5]) + \" \")\n",
        "    txt_list = txt_list[1:]\n",
        "    if len(txt_list) < 5:\n",
        "      break\n",
        "  return result"
      ],
      "metadata": {
        "id": "uvRLUSiLSgnc"
      },
      "execution_count": null,
      "outputs": []
    },
    {
      "cell_type": "markdown",
      "source": [
        "Hàm tìm kiếm sáu chữ liên tiếp nhau"
      ],
      "metadata": {
        "id": "zRMIy-L3WdLV"
      }
    },
    {
      "cell_type": "code",
      "source": [
        "def six_token_query(text):\n",
        "  txt_list = text.split()\n",
        "  result = []\n",
        "  while len(txt_list)>0:\n",
        "    result.append(\" \" + \" \".join(txt_list[:6]) + \" \")\n",
        "    txt_list = txt_list[1:]\n",
        "    if len(txt_list) < 6:\n",
        "      break\n",
        "  return result"
      ],
      "metadata": {
        "id": "6HEJ8ucYbSCT"
      },
      "execution_count": null,
      "outputs": []
    },
    {
      "cell_type": "markdown",
      "source": [
        "##**Hàm đánh giá điểm**"
      ],
      "metadata": {
        "id": "kDcf0YYUW9FC"
      }
    },
    {
      "cell_type": "markdown",
      "source": [
        "Ý tưởng chung của hàm là nếu số lượng chữ liên tiếp nhau trong query có xuất hiện trong lyric bất kì càng nhiều thì điểm của lyric tương ứng với query đó càng cao."
      ],
      "metadata": {
        "id": "9EHSxkCTXEvX"
      }
    },
    {
      "cell_type": "code",
      "source": [
        "def get_score(lyrics, query):\n",
        "  scores =[]\n",
        "  for lr in lyrics:\n",
        "    lyric = \" \" + lr + \" \"\n",
        "    score = 0\n",
        "    one = one_token_query(query)\n",
        "    for o in one:\n",
        "      if o in lyric:\n",
        "        score = score + 1\n",
        "    two = two_token_query(query)\n",
        "\n",
        "    for t in two:\n",
        "      if t in lyric:\n",
        "        score = score + 4\n",
        "    three = three_token_query(query)\n",
        "\n",
        "    for t in three:\n",
        "      if t in lyric:\n",
        "        score = score + 16\n",
        "    four = four_token_query(query)\n",
        "  \n",
        "    for f in four:\n",
        "      if f in lyric:\n",
        "        score = score + 64\n",
        "    five = five_token_query(query)\n",
        "   \n",
        "    for f in five:\n",
        "      if f in lyric:\n",
        "        score = score + 256\n",
        "    six = six_token_query(query)\n",
        "   \n",
        "    for s in six:\n",
        "      if s in lyric:\n",
        "        score = score + 1024\n",
        "\n",
        "    if query in lyric:\n",
        "      score = score + 100000\n",
        "    scores.append(score)\n",
        "  return scores"
      ],
      "metadata": {
        "id": "MYDogZVuGF3D"
      },
      "execution_count": null,
      "outputs": []
    },
    {
      "cell_type": "markdown",
      "source": [
        "##**Hàm lấy ra top 10 lyrics có sự tương đồng lớn nhất**"
      ],
      "metadata": {
        "id": "F75mA5plYDbZ"
      }
    },
    {
      "cell_type": "code",
      "source": [
        "def get_ranking(scores, song_id):\n",
        "  list_rs = sorted(range(len(scores)), key=scores.__getitem__)\n",
        "  list_rs.reverse()\n",
        "  results = []\n",
        "  for i in range(10):\n",
        "    rs = \"0000\" + str(song_id[list_rs[i]])\n",
        "    results.append(rs[-4:])\n",
        "  return results"
      ],
      "metadata": {
        "id": "Ec6hXQxaGeNz"
      },
      "execution_count": null,
      "outputs": []
    },
    {
      "cell_type": "markdown",
      "source": [
        "#**Download data**"
      ],
      "metadata": {
        "id": "BgU0yyjNYbW9"
      }
    },
    {
      "cell_type": "code",
      "source": [
        "import json\n",
        "\n",
        "#Download lyrics\n",
        "!gdown --id 1V7WxGaVv3UamD4AM5qnqDNzkBSw6paQy\n",
        "#Download queries\n",
        "!gdown --id 1srNAjKMTncZUgxDTZZHfMnTbPd9ic2xx"
      ],
      "metadata": {
        "colab": {
          "base_uri": "https://localhost:8080/"
        },
        "id": "UWE7n_esKUT8",
        "outputId": "02851145-d391-445c-c96d-e2cfc1f940f1"
      },
      "execution_count": null,
      "outputs": [
        {
          "output_type": "stream",
          "name": "stdout",
          "text": [
            "Downloading...\n",
            "From: https://drive.google.com/uc?id=1V7WxGaVv3UamD4AM5qnqDNzkBSw6paQy\n",
            "To: /content/2335_Songs.json\n",
            "100% 4.33M/4.33M [00:00<00:00, 189MB/s]\n",
            "Downloading...\n",
            "From: https://drive.google.com/uc?id=1srNAjKMTncZUgxDTZZHfMnTbPd9ic2xx\n",
            "To: /content/500_queries.json\n",
            "100% 39.0k/39.0k [00:00<00:00, 44.8MB/s]\n"
          ]
        }
      ]
    },
    {
      "cell_type": "markdown",
      "source": [
        "#**Preliminaries & Corpus Creation**"
      ],
      "metadata": {
        "id": "LAxEUm1DZExa"
      }
    },
    {
      "cell_type": "code",
      "source": [
        "import os\n",
        "import pprint as pp\n",
        "import numpy as np\n",
        "import json\n",
        "import pandas as pd\n",
        "df = pd.read_json (r'/content/2335_Songs.json')\n",
        "df.to_csv (r'/content/sample_data/data.csv', index = None)\n",
        "song_id = list(df[\"song_id\"])"
      ],
      "metadata": {
        "id": "1vui56-CLGWe"
      },
      "execution_count": null,
      "outputs": []
    },
    {
      "cell_type": "code",
      "source": [
        "from tqdm import tqdm\n",
        "# link to data\n",
        "CORPUS_SONG_JSON = \"2335_Songs.json\"\n",
        "QUERIES_JSON = \"500_queries.json\""
      ],
      "metadata": {
        "id": "5HmvThmeLQIO"
      },
      "execution_count": null,
      "outputs": []
    },
    {
      "cell_type": "code",
      "source": [
        "with open(CORPUS_SONG_JSON, 'r', encoding='utf-8') as fo:\n",
        "  corpus_data = json.load(fo)\n",
        "with open(QUERIES_JSON, 'r', encoding='utf-8') as fo:\n",
        "  queries_test = json.load(fo)"
      ],
      "metadata": {
        "id": "_qbPsNwKLR6H"
      },
      "execution_count": null,
      "outputs": []
    },
    {
      "cell_type": "markdown",
      "source": [
        "#**Pre-processing**"
      ],
      "metadata": {
        "id": "5qbks6d5ZLaS"
      }
    },
    {
      "cell_type": "code",
      "source": [
        "!pip install unidecode"
      ],
      "metadata": {
        "colab": {
          "base_uri": "https://localhost:8080/"
        },
        "id": "6SYJyi6rUU4D",
        "outputId": "af3974d9-4fbc-4ef6-cd67-f94dd1c7f108"
      },
      "execution_count": null,
      "outputs": [
        {
          "output_type": "stream",
          "name": "stdout",
          "text": [
            "Collecting unidecode\n",
            "  Downloading Unidecode-1.3.4-py3-none-any.whl (235 kB)\n",
            "\u001b[?25l\r\u001b[K     |█▍                              | 10 kB 19.7 MB/s eta 0:00:01\r\u001b[K     |██▉                             | 20 kB 12.7 MB/s eta 0:00:01\r\u001b[K     |████▏                           | 30 kB 9.7 MB/s eta 0:00:01\r\u001b[K     |█████▋                          | 40 kB 9.0 MB/s eta 0:00:01\r\u001b[K     |███████                         | 51 kB 4.5 MB/s eta 0:00:01\r\u001b[K     |████████▍                       | 61 kB 5.2 MB/s eta 0:00:01\r\u001b[K     |█████████▊                      | 71 kB 5.7 MB/s eta 0:00:01\r\u001b[K     |███████████▏                    | 81 kB 5.9 MB/s eta 0:00:01\r\u001b[K     |████████████▌                   | 92 kB 6.5 MB/s eta 0:00:01\r\u001b[K     |██████████████                  | 102 kB 5.1 MB/s eta 0:00:01\r\u001b[K     |███████████████▎                | 112 kB 5.1 MB/s eta 0:00:01\r\u001b[K     |████████████████▊               | 122 kB 5.1 MB/s eta 0:00:01\r\u001b[K     |██████████████████              | 133 kB 5.1 MB/s eta 0:00:01\r\u001b[K     |███████████████████▌            | 143 kB 5.1 MB/s eta 0:00:01\r\u001b[K     |████████████████████▉           | 153 kB 5.1 MB/s eta 0:00:01\r\u001b[K     |██████████████████████▎         | 163 kB 5.1 MB/s eta 0:00:01\r\u001b[K     |███████████████████████▋        | 174 kB 5.1 MB/s eta 0:00:01\r\u001b[K     |█████████████████████████       | 184 kB 5.1 MB/s eta 0:00:01\r\u001b[K     |██████████████████████████▍     | 194 kB 5.1 MB/s eta 0:00:01\r\u001b[K     |███████████████████████████▉    | 204 kB 5.1 MB/s eta 0:00:01\r\u001b[K     |█████████████████████████████▏  | 215 kB 5.1 MB/s eta 0:00:01\r\u001b[K     |██████████████████████████████▋ | 225 kB 5.1 MB/s eta 0:00:01\r\u001b[K     |████████████████████████████████| 235 kB 5.1 MB/s eta 0:00:01\r\u001b[K     |████████████████████████████████| 235 kB 5.1 MB/s \n",
            "\u001b[?25hInstalling collected packages: unidecode\n",
            "Successfully installed unidecode-1.3.4\n"
          ]
        }
      ]
    },
    {
      "cell_type": "markdown",
      "source": [
        "1. Chuyển tiếng Việt về dạng không dấu\n",
        "2. Chuyển chữ HOA thành chữ thường\n"
      ],
      "metadata": {
        "id": "0DINxRw3ZYDK"
      }
    },
    {
      "cell_type": "code",
      "source": [
        "import unidecode\n",
        "for i,corpus in enumerate(corpus_data):\n",
        "  corpus_data[i]['lyrics'] = unidecode.unidecode((corpus['title'] + \" \" + corpus['lyrics']).lower())"
      ],
      "metadata": {
        "id": "FYeiCfHPURhJ"
      },
      "execution_count": null,
      "outputs": []
    },
    {
      "cell_type": "code",
      "source": [
        "for i,corpus in enumerate(corpus_data):\n",
        "  corpus_data[i]['lyrics'] = (corpus['title'] +\" \" + corpus['lyrics']).lower()"
      ],
      "metadata": {
        "id": "o_oNRWk7LUwI"
      },
      "execution_count": null,
      "outputs": []
    },
    {
      "cell_type": "markdown",
      "source": [
        "Loại bỏ những ký tự không cần thiết"
      ],
      "metadata": {
        "id": "z_Gk_zs8ZqQT"
      }
    },
    {
      "cell_type": "code",
      "source": [
        "strash_sign = '!\"#$%&()*+,-./:’”;<=>?@[\\\\]^_`{|}~\\t\\n'\n",
        "for i,corpus in enumerate(corpus_data):\n",
        "  for sign in strash_sign:\n",
        "    corpus_data[i]['lyrics'] = corpus['lyrics'].replace(sign, \" \")"
      ],
      "metadata": {
        "id": "tXrNQyXILWiP"
      },
      "execution_count": null,
      "outputs": []
    },
    {
      "cell_type": "markdown",
      "source": [
        "Loại bỏ những từ không cần thiết"
      ],
      "metadata": {
        "id": "qG5-gbtqZuP5"
      }
    },
    {
      "cell_type": "code",
      "source": [
        "stop_word = ['intro', 'verse', 'hook', 'chorus', 'pre-chorus','bai hat']  #, ' anh ', ' em ', ' la ', ' thi ', ' nhung ', ' voi ', ' cua ' , ' a ', ' e ']\n",
        "for i,corpus in enumerate(corpus_data):\n",
        "  for word in stop_word:\n",
        "    corpus_data[i]['lyrics'] = corpus['lyrics'].replace(word, \" \")\n"
      ],
      "metadata": {
        "id": "X311ROosLYUp"
      },
      "execution_count": null,
      "outputs": []
    },
    {
      "cell_type": "markdown",
      "source": [
        "Chuyển số về định dạng chữ"
      ],
      "metadata": {
        "id": "tbDHtmrEZ2Nu"
      }
    },
    {
      "cell_type": "code",
      "source": [
        "for i,corpus in enumerate(corpus_data):\n",
        "  corpus_data[i]['lyrics'] = corpus['lyrics'].replace(\" 0 \", \" khong \")\n",
        "  corpus_data[i]['lyrics'] = corpus['lyrics'].replace(\" 1 \", \" mot \")\n",
        "  corpus_data[i]['lyrics'] = corpus['lyrics'].replace(\" 2 \", \" hai \")\n",
        "  corpus_data[i]['lyrics'] = corpus['lyrics'].replace(\" 3 \", \" ba \")\n",
        "  corpus_data[i]['lyrics'] = corpus['lyrics'].replace(\" 4 \", \" bon \")\n",
        "  corpus_data[i]['lyrics'] = corpus['lyrics'].replace(\" 5 \", \" nam \")\n",
        "  corpus_data[i]['lyrics'] = corpus['lyrics'].replace(\" 6 \", \" sau \")\n",
        "  corpus_data[i]['lyrics'] = corpus['lyrics'].replace(\" 7 \", \" bay \")\n",
        "  corpus_data[i]['lyrics'] = corpus['lyrics'].replace(\" 8 \", \" tam \")\n",
        "  corpus_data[i]['lyrics'] = corpus['lyrics'].replace(\" 9 \", \" chin \")\n",
        "  corpus_data[i]['lyrics'] = \" \".join(corpus['lyrics'].split())"
      ],
      "metadata": {
        "id": "KlcbAOZDLccT"
      },
      "execution_count": null,
      "outputs": []
    },
    {
      "cell_type": "code",
      "source": [
        "#Danh sách bài hát thiếu từ\n",
        "lst = []\n",
        "id = []\n",
        "for i in range(2335):\n",
        "  if '*' in corpus_data[i]['lyrics']:\n",
        "    id.append(i)\n",
        "    lst.append(corpus_data[i]['song_id'])\n"
      ],
      "metadata": {
        "id": "MqJ9ISxcLdyG"
      },
      "execution_count": null,
      "outputs": []
    },
    {
      "cell_type": "markdown",
      "source": [
        "Thêm tất cả các lyrics vào một List"
      ],
      "metadata": {
        "id": "cZxOV0f2Z8wg"
      }
    },
    {
      "cell_type": "code",
      "source": [
        "corpus_list = []\n",
        "for c in corpus_data:\n",
        "  corpus_list.append(c[\"lyrics\"])"
      ],
      "metadata": {
        "id": "0EUZoQuoQg3i"
      },
      "execution_count": null,
      "outputs": []
    },
    {
      "cell_type": "code",
      "source": [
        "corpus_list[0:10]"
      ],
      "metadata": {
        "colab": {
          "base_uri": "https://localhost:8080/"
        },
        "id": "Abax33unQt5N",
        "outputId": "99583baa-e9be-4ab1-8cfc-966fa50c8fa0"
      },
      "execution_count": null,
      "outputs": [
        {
          "output_type": "execute_result",
          "data": {
            "text/plain": [
              "['tình yêu thuỷ chung tinh yeu thuy chung tinh yeu thuy chung tran binh viet linh co phai la duyen khi anh gap em tu kiep truoc the uoc chung doi cung han hoan nhin nhau dam duoi long quyen luyen chuyen mai khong thoi em tu noi dau da den noi nay anh han hoan trao em vong tay va doi ta song chung hanh phuc cung xay dap cho moi duyen nay em oi em oi du phong ba du bao to du nang chay anh van yeu em mai mai khong thoi anh oi anh oi du gian nan du khon kho ta van yeu nhau den cuoi cuoc doi ta van ben nhau qua bao buon vui ta yeu nhau tinh yeu dam say tinh yeu ta dep tinh yeu tham thiet hanh phuc tram nam tinh yeu thuy chung',\n",
              " 'lá thư của cha la thu cua cha la thu cua cha tran binh tu ngay con ra di cha long buon thuong nho co don va sau muon bao ngay thang mong cho tu ngay con ra di toi thoi gian bay gio tham thoat muoi hai nam chan cha thuong dung ngoi ngan ngo dk me con khong con nua di roi quen tu gia cha mot minh thui thui lanh gia va don coi nay con o phuong xa dung quen noi que nha van con nguoi trong doi nguoi ay la cha gia cha cho con trong hap hoi la thu cuoi cung con oi thu nay mong con nhan duoc thuong con vat va don coi mua lanh ngoai troi dang roi gang them mot chut tan hoi cha day nhan lai mot loi chuc con hanh phuc tron doi tro lai dk thu nay cuoi cung con oi me con dua tay vay goi bao nam cha day trong doi me don cha ve chung doi nho loi cha dan con oi hien minh giup doi yen vui du xa cach biet phuong troi cho quen to quoc giong noi',\n",
              " 'đoạn buồn biết mấy doan buon biet may doan buon cho toi biet may nguoi tinh roi xa toi khuat bong biet co don dang ngap noi sau roi tung chieu may den tim tim mot minh buon toi buoc don coi mang trong tim noi nho mot minh cho troi chieu buon menh mang lang thang minh toi buoc tren noi sau di dau ve dau muon loi vo dinh doan buon biet may trong toi nho nguoi khong nho den toi chieu tim toi goi ten ai doan buon cho toi biet may hen ho em da ngo lo chieu nay toi dung mot minh dong nguoi dua chen khap chon nhin hoai khong thay em sang cho toi doan buon tinh nhan',\n",
              " 'chiều trên đòi canve chieu tren doi canve can ve chieu nao lang le than gay guc xuong don dau gio thoi gao dem buon buong xuong the nhan chim trong muon toi loi long con da thong hoi ngai oi da bao lan tim chua don dau bao nhieu lan trot loi nguyen the ao vong tran gian mai me di tim dk yeu con chi vi yeu con chua da hy sinh yeu con chi vi yeu con chua da quen than quen toi loi trong doi con loi pham can ve chieu buon nam xua than chua bo vo bao nhieu lan don roi dau than xac e che phut cuoi cung tren thanh gia kia chua guc dau van nho thuong con chua van tham thu tha toi con',\n",
              " 'mùa xuân tình yêu mua xuan tinh yeu mua xuan tinh yeu do minh hieu em oi con song dong suoi tuy chua he noi co chung coi nguon em oi khi ta nhin nhau yeu thuong tran ve thac do con song dat dao song vo mien man em oi xuan nay vua toi xuan khong he noi chi chao nu hong em oi qua bao ngay dong xuan nay lai ve nhac nho bao nhieu la dieu de nho de thuong mua xuan den nhac ta nhung ngay ben san truong luc nang mua mua xuan den nhac ta nhung dieu ma ta chua noi ra mua xuan den nhac ta nhung lan tren con duong pho va hom nay buoc tren pho nay duong nhu nghe tieng trai tim minh hat ca',\n",
              " 'tình yêu mùa xuân tinh yeu mua xuan tinh yeu mua xuan uyen di duy linh mua xuan mang den niem vui trong khap dat troi mua dong bang gia lang di khong tieng gia tu bat ngan gio xa mot mau nang som mung nang xuan chao mua nang tuoi mung nang xuan chao mua nang tuoi bay chim dang hot bai ca xuan den voi doi ngan mai tuoi tham nu xinh nhu cat tieng cuoi ngan loi chuc xuan ron rang hat vang va loi hat ai lam long dam say d k nguoi yeu hoi khi mua xuan den la bao nhung mong cho e ap loi chim hot noi thay cho long tieng yeu thuong nay cung con gio xuan nong dem toi tinh yeu men chan hoa muon loi mua xuan hat tieng yeu cho minh dam say an tinh ngoai kia chim hot mung xuan hoa la chuc mung mung nghe con gio mua dong da mai xa roi cuoc doi da qua mot thoi da xa tim thay dau ngay dai da qua tim thay dau ngay dai da qua tinh yeu hay den cung nhau chung buoc loi tinh mua xuan dang hat cung ta cau hat chuc mung ngan loi chuc xuan ron rang hat vang va loi hat ai lam long dam say',\n",
              " 'tình yêu tìm thấy tinh yeu tim thay song cu troi dat noi chon nao tim em menh mong bien troi van thay con duong xa tit mu tim em tim hoang hon lang nang tat trang vua noi cuoi duong bo quen con tim heo mon cu mai di tim nhau the thoi de cho ai voi nhung nho va roi tim thay nhau tinh yeu sao ngo ngang dem ve chot nghe long thao thuc dk vi yeu mong manh nhu say vi yeu mong manh nhu mo mo giac mo ngay mai tinh yeu cho ta ben nhau tinh yeu cho ta bao an tinh tron doi ben em',\n",
              " 'thương về dĩ vãng thuong ve di vang ngay thang troi tu luc em ra di rieng noi day mot minh toi voi toi giot sau buon vuong khoe mat em da xa vang trang xua nay da vo tan roi thuong ve di vang khung troi xa xoi thuong ve di vang tinh da xa ta em ve noi ay mac ta noi day hoang vu mot goc troi bo vo dk ben ly ruou cay len men cuoc doi ben ly ruou cay ta say mot minh nuoc mat nao nho xuong vuc sau nuoc mat nao troi mai ve dau di vang nguoi oi ngot bui dang cay di vang nguoi oi gio sao vang tenh nhin may lang thang vuong dau be bang con gio vo tinh xe nat chieu hoang',\n",
              " 'nước mắt hoa sim nuoc mat hoa sim nguoi da di roi con day mot minh toi voi yeu thuong ta toi danh long sao em no voi quen het ky niem xua cua doi minh va ngay xua do hai ta cung ben canh tang nhanh sim tim yeu thuong thi tham em khe noi trot yeu anh roi nhung no nao lua doi no long nao phu tinh toi nao co ai ngo dong tien da lam em no quen an tinh xua nhin canh hoa sim heo sau tua cay kho dang long tinh yeu chung minh ngay xua em noi hoa sim la bieu tuong cho su chung thuy hai ta va roi theo nam thang thay long boi bac de lai cau xin loi nghen ngao nuoc mat hoa sim dk em sao no danh long sao no phu tinh nay sao no voi quay lung va sao tai em dem long doi lua mot tinh yeu ngo lau ben toi phan chang co sang giau hai ban tay trang nen danh mat em giot nuoc mat cu lang dai dem ngoi tiec nho mot tinh duyen lo lang lang le am tham tren con duong ngay xua nhung tam tu sau vuong nhin nhanh hoa sim van con noi day nhung nguoi cu da khong con mot minh le buoc ky uc ngay xua ua ve lam tan nat tim dau thi thoi toi xin chuc em hanh phuc ben nguoi toi danh quen het xin gia tu tinh yeu thi thoi toi xin chuc em hanh phuc ben nguoi toi am tham khoc ngam ngui nuoc mat hoa sim',\n",
              " 'tiếng ca đàn chim việt tieng ca dan chim viet menh mong huong lua vang ngat thom khoi lam chieu em dem ngan nga tieng tieu dong nuoc tam mat canh dong xanh uon luon quanh qua lang thon cho que ban mai tia nang hong la roi loi em ve thu vang mang bao van vuong ta ao luot thuot toc von bay theo lan may khi chieu buong dong xanh yeu ben que ron vang vui ngay mua bay co bay huong lua ngat nong say trau lang thang qua trien de chieu chieu tuoi tho nao tiu tit anh trang roi tung canh chim noi bo tre dau lang mang hon que oi tiec nuoi ngay xanh bao yeu thuong ngan vang theo cung dan xa tuoi hong ngay tham hat ben em huong xuan ngat xanh kia buom ong bay rap ron muon chim chieu riu rit hot hoan ca em nho ve chon que qua dau lang nhat toi canh mai roi em nho ve loi thu qua do chieu nhat toi nhanh hoa xua']"
            ]
          },
          "metadata": {},
          "execution_count": 72
        }
      ]
    },
    {
      "cell_type": "code",
      "source": [
        "import csv\n",
        "import re\n",
        "\n",
        "with open(\"submission.csv\", \"w\") as csv_writer:\n",
        "  fieldnames = ['query_id', 'song_id']\n",
        "  writer = csv.DictWriter(csv_writer, fieldnames=fieldnames)\n",
        "  writer.writeheader()\n",
        "  i = 0\n",
        "  for quess in tqdm(queries_test):\n",
        "    ques = quess[\"query\"]\n",
        "    #Chuyển các queries về dạng chữ thường, không dấu\n",
        "    preprocess_query = \" \" + unidecode.unidecode(ques.lower()) + \" \"\n",
        "    #Loại bỏ các ký tự và từ ngữ không cần thiết\n",
        "    for sign in strash_sign:\n",
        "      preprocess_query = preprocess_query.replace(sign, \" \")\n",
        "    for word in stop_word:\n",
        "      preprocess_query = preprocess_query.replace(word, \" \")\n",
        "    #Sửa các lỗi chính tả, teencode hay sai trong tiếng Việt\n",
        "    preprocess_query = preprocess_query.replace(\" nk \", \" nh \")\n",
        "    preprocess_query = preprocess_query.replace(\" ik \", \" di \")\n",
        "    preprocess_query = preprocess_query.replace(\" khox \", \" khoc \")\n",
        "    preprocess_query = preprocess_query.replace(\" nayd \", \" nay \")\n",
        "    preprocess_query = preprocess_query.replace(\" ko \", \" khong \")\n",
        "    preprocess_query = preprocess_query.replace(\" k0 \", \" khong \")\n",
        "    preprocess_query = preprocess_query.replace(\" k \", \" khong \")\n",
        "    preprocess_query = preprocess_query.replace(\" khum \", \" khong \")\n",
        "    preprocess_query = preprocess_query.replace(\" m \", \" may \")\n",
        "    preprocess_query = preprocess_query.replace(\" t \", \" tao \")\n",
        "    preprocess_query = preprocess_query.replace(\" bik \", \" biet \")\n",
        "    preprocess_query = preprocess_query.replace(\" 0 \", \" khong \")\n",
        "    preprocess_query = preprocess_query.replace(\" 1 \", \" mot \")\n",
        "    preprocess_query = preprocess_query.replace(\" 2 \", \" hai \")\n",
        "    preprocess_query = preprocess_query.replace(\" 3 \", \" ba \")\n",
        "    preprocess_query = preprocess_query.replace(\" 4 \", \" bon \")\n",
        "    preprocess_query = preprocess_query.replace(\" 5 \", \" nam \")\n",
        "    preprocess_query = preprocess_query.replace(\" 6 \", \" sau \")\n",
        "    preprocess_query = preprocess_query.replace(\" 7 \", \" bay \")\n",
        "    preprocess_query = preprocess_query.replace(\" 8 \", \" tam \")\n",
        "    preprocess_query = preprocess_query.replace(\" 9 \", \" chin \")\n",
        "    preprocess_query = preprocess_query.replace(\" dzia \", \" ve \")\n",
        "    preprocess_query = preprocess_query.replace(\" dze \", \" ve \")\n",
        "    preprocess_query = preprocess_query.replace(\" dzo \", \" vo \")\n",
        "    preprocess_query = preprocess_query.replace(\" wit \", \" with \")\n",
        "    preprocess_query = preprocess_query.replace(\" ma gang \", \" my gang \")\n",
        "    preprocess_query = preprocess_query.replace(\" mik \", \" minh \")\n",
        "    preprocess_query = \" \".join(preprocess_query.split())\n",
        "\n",
        "    #Tính điểm cho từng query\n",
        "    scores = get_score(corpus_list, preprocess_query)\n",
        "    results = get_ranking(scores, song_id)\n",
        "\n",
        "    writer.writerow({'query_id': queries_test[i][\"query_id\"], \"song_id\": \" \".join(results)})\n",
        "    i = i+1\n",
        "    "
      ],
      "metadata": {
        "id": "kwnrMo7kPTwC",
        "colab": {
          "base_uri": "https://localhost:8080/"
        },
        "outputId": "a511108b-a552-4c9c-f2db-0ac059bc50e0"
      },
      "execution_count": null,
      "outputs": [
        {
          "output_type": "stream",
          "name": "stderr",
          "text": [
            "100%|██████████| 500/500 [02:17<00:00,  3.64it/s]\n"
          ]
        }
      ]
    }
  ]
}